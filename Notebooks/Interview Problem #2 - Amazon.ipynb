{
 "cells": [
  {
   "cell_type": "markdown",
   "metadata": {},
   "source": [
    "# Amazon Data Science Interview Question \n",
    "- [Source](https://www.glassdoor.com/Interview/Amazon-Data-Scientist-Interview-Questions-EI_IE6036.0,6_KO7,21_IP3.htm?filter.jobTitleFTS=Data+Scientist)"
   ]
  },
  {
   "cell_type": "markdown",
   "metadata": {},
   "source": [
    "#### If given an integer n and an array of numbers, give out the histogram divided into n bins"
   ]
  },
  {
   "cell_type": "code",
   "execution_count": 44,
   "metadata": {},
   "outputs": [],
   "source": [
    "import matplotlib.pyplot as plt \n",
    "import numpy as np "
   ]
  },
  {
   "cell_type": "code",
   "execution_count": 45,
   "metadata": {},
   "outputs": [],
   "source": [
    "n = 10\n",
    "arr = np.array(np.random.normal(size = 10000))"
   ]
  },
  {
   "cell_type": "code",
   "execution_count": 46,
   "metadata": {},
   "outputs": [],
   "source": [
    "def make_hist(arr, n):\n",
    "    bin_dict = {}\n",
    "    prev = None\n",
    "    for counter, i in enumerate(np.linspace(arr.min(), arr.max(), n + 1)):\n",
    "        if prev:\n",
    "            vals = arr[(arr >= prev) & (arr < i)]\n",
    "            bin_dict[counter] = {'vals': vals, 'range': [prev, i]}\n",
    "        prev = i\n",
    "    x = [np.mean(bin_dict[bin_num]['range']) for bin_num in bin_dict.keys()]\n",
    "    y = [len(bin_dict[bin_num]['vals']) for bin_num in bin_dict.keys()]\n",
    "    plt.bar(x, y)\n",
    "    plt.show()"
   ]
  },
  {
   "cell_type": "code",
   "execution_count": 47,
   "metadata": {},
   "outputs": [
    {
     "data": {
      "image/png": "[encoded data removed]",
      "text/plain": [
       "<Figure size 432x288 with 1 Axes>"
      ]
     },
     "metadata": {
      "needs_background": "light"
     },
     "output_type": "display_data"
    }
   ],
   "source": [
    "make_hist(arr, 1000)"
   ]
  }
 ],
 "metadata": {
  "kernelspec": {
   "display_name": "Python 3",
   "language": "python",
   "name": "python3"
  },
  "language_info": {
   "codemirror_mode": {
    "name": "ipython",
    "version": 3
   },
   "file_extension": ".py",
   "mimetype": "text/x-python",
   "name": "python",
   "nbconvert_exporter": "python",
   "pygments_lexer": "ipython3",
   "version": "3.7.10"
  }
 },
 "nbformat": 4,
 "nbformat_minor": 4
}
