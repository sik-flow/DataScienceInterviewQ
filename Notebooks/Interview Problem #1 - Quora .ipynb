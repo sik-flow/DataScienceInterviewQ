{
 "cells": [
  {
   "cell_type": "markdown",
   "id": "ebbef1ba",
   "metadata": {},
   "source": [
    "# Quora Data Science Interview Question \n",
    "- [Source](https://www.glassdoor.com/Interview/Quora-Inc-Data-Scientist-Interview-Questions-EI_IE646885.0,9_KO10,24.htm#InterviewReview_19323276)"
   ]
  },
  {
   "cell_type": "markdown",
   "id": "5b6c66f6",
   "metadata": {},
   "source": [
    "## You're drawing from a random variable that is normally distributed X ~ N(0,1), once per day. What is the expected number of days that it takes to draw a value that's higher than 2?"
   ]
  },
  {
   "cell_type": "markdown",
   "id": "4122aa1f",
   "metadata": {},
   "source": [
    "- Day 1: Draw 1 \n",
    "- Day 2: Draw -0.7\n",
    "- Day 3: Draw 2.4"
   ]
  },
  {
   "cell_type": "code",
   "execution_count": 3,
   "id": "399af40a",
   "metadata": {},
   "outputs": [],
   "source": [
    "prob_greater_2 = 1 - 0.9772"
   ]
  },
  {
   "cell_type": "code",
   "execution_count": 6,
   "id": "c16d4343",
   "metadata": {},
   "outputs": [
    {
     "data": {
      "text/plain": [
       "0.022800000000000042"
      ]
     },
     "execution_count": 6,
     "metadata": {},
     "output_type": "execute_result"
    }
   ],
   "source": [
    "prob_greater_2"
   ]
  },
  {
   "cell_type": "code",
   "execution_count": 11,
   "id": "cb6a94a1",
   "metadata": {},
   "outputs": [
    {
     "data": {
      "text/plain": [
       "1.0032000000000019"
      ]
     },
     "execution_count": 11,
     "metadata": {},
     "output_type": "execute_result"
    }
   ],
   "source": [
    "prob_greater_2 * 44"
   ]
  },
  {
   "cell_type": "code",
   "execution_count": 12,
   "id": "77ddb904",
   "metadata": {},
   "outputs": [
    {
     "data": {
      "text/plain": [
       "43.859649122806935"
      ]
     },
     "execution_count": 12,
     "metadata": {},
     "output_type": "execute_result"
    }
   ],
   "source": [
    "1 / prob_greater_2"
   ]
  },
  {
   "cell_type": "code",
   "execution_count": 13,
   "id": "a8823a5d",
   "metadata": {},
   "outputs": [],
   "source": [
    "import numpy as np "
   ]
  },
  {
   "cell_type": "code",
   "execution_count": 26,
   "id": "6c2bc692",
   "metadata": {},
   "outputs": [
    {
     "data": {
      "text/plain": [
       "44.07293"
      ]
     },
     "execution_count": 26,
     "metadata": {},
     "output_type": "execute_result"
    }
   ],
   "source": [
    "count_list = []\n",
    "for i in range(100000):\n",
    "    counter = 0\n",
    "    while True:\n",
    "        counter += 1\n",
    "        if np.random.normal() > 2:\n",
    "            count_list.append(counter)\n",
    "            break\n",
    "np.mean(count_list)"
   ]
  }
 ],
 "metadata": {
  "kernelspec": {
   "display_name": "Python 3",
   "language": "python",
   "name": "python3"
  },
  "language_info": {
   "codemirror_mode": {
    "name": "ipython",
    "version": 3
   },
   "file_extension": ".py",
   "mimetype": "text/x-python",
   "name": "python",
   "nbconvert_exporter": "python",
   "pygments_lexer": "ipython3",
   "version": "3.7.10"
  },
  "toc": {
   "base_numbering": 1,
   "nav_menu": {},
   "number_sections": true,
   "sideBar": true,
   "skip_h1_title": false,
   "title_cell": "Table of Contents",
   "title_sidebar": "Contents",
   "toc_cell": false,
   "toc_position": {},
   "toc_section_display": true,
   "toc_window_display": false
  }
 },
 "nbformat": 4,
 "nbformat_minor": 5
}
